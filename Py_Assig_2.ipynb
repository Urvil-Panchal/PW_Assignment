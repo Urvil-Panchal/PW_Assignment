{
 "cells": [
  {
   "cell_type": "markdown",
   "id": "993f0330",
   "metadata": {},
   "source": [
    "# Question 1"
   ]
  },
  {
   "cell_type": "code",
   "execution_count": 1,
   "id": "43faf361",
   "metadata": {},
   "outputs": [
    {
     "name": "stdout",
     "output_type": "stream",
     "text": [
      "[('VK', 24936), ('JK', 25534), ('RP', 27483), ('ST', 34357)]\n"
     ]
    }
   ],
   "source": [
    "ls = [('ST', 34357), ('RP', 27483), ('JK', 25534), ('VK', 24936)]\n",
    "sorted_ls = sorted(ls, key=lambda x: x[1])\n",
    "print(sorted_ls)"
   ]
  },
  {
   "cell_type": "markdown",
   "id": "a3cb63ee",
   "metadata": {},
   "source": [
    "# Question 2"
   ]
  },
  {
   "cell_type": "code",
   "execution_count": 2,
   "id": "21b867d3",
   "metadata": {},
   "outputs": [
    {
     "data": {
      "text/plain": [
       "[1, 4, 9, 16, 25, 36, 49, 64, 81, 100]"
      ]
     },
     "execution_count": 2,
     "metadata": {},
     "output_type": "execute_result"
    }
   ],
   "source": [
    "x = [1,2,3,4,5,6,7,8,9,10]\n",
    "res = list(map(lambda a:a**2 , x))\n",
    "res"
   ]
  },
  {
   "cell_type": "markdown",
   "id": "28f7311d",
   "metadata": {},
   "source": [
    "# Question 3"
   ]
  },
  {
   "cell_type": "code",
   "execution_count": 3,
   "id": "bfaaec55",
   "metadata": {},
   "outputs": [
    {
     "data": {
      "text/plain": [
       "('1', '2', '3', '4', '5', '6', '7', '8', '9', '10')"
      ]
     },
     "execution_count": 3,
     "metadata": {},
     "output_type": "execute_result"
    }
   ],
   "source": [
    "ls = [1,2,3,4,5,6,7,8,9,10]\n",
    "tup = tuple(map(lambda a:str(a), ls))\n",
    "tup"
   ]
  },
  {
   "cell_type": "markdown",
   "id": "9e7b99d8",
   "metadata": {},
   "source": [
    "# Question 4"
   ]
  },
  {
   "cell_type": "code",
   "execution_count": 4,
   "id": "12eaf6a2",
   "metadata": {},
   "outputs": [
    {
     "data": {
      "text/plain": [
       "15511210043330985984000000"
      ]
     },
     "execution_count": 4,
     "metadata": {},
     "output_type": "execute_result"
    }
   ],
   "source": [
    "from functools import reduce\n",
    "ls = list(range(1, 26))\n",
    "ans = reduce(lambda x, y: x * y, ls)\n",
    "ans"
   ]
  },
  {
   "cell_type": "markdown",
   "id": "7a65ad09",
   "metadata": {},
   "source": [
    "# Question 5"
   ]
  },
  {
   "cell_type": "code",
   "execution_count": 5,
   "id": "0799a4b2",
   "metadata": {},
   "outputs": [
    {
     "data": {
      "text/plain": [
       "[6, 60, 90, 120]"
      ]
     },
     "execution_count": 5,
     "metadata": {},
     "output_type": "execute_result"
    }
   ],
   "source": [
    "ls = [2, 3, 6, 9, 27, 60, 90, 120, 55, 46]\n",
    "filtered_ls = list(filter(lambda x: x % 2 == 0 and x % 3 == 0, ls))\n",
    "filtered_ls"
   ]
  },
  {
   "cell_type": "markdown",
   "id": "2b2d26f1",
   "metadata": {},
   "source": [
    "# Question 6"
   ]
  },
  {
   "cell_type": "code",
   "execution_count": 6,
   "id": "952361e8",
   "metadata": {},
   "outputs": [
    {
     "data": {
      "text/plain": [
       "['php', 'aba', 'radar', 'level']"
      ]
     },
     "execution_count": 6,
     "metadata": {},
     "output_type": "execute_result"
    }
   ],
   "source": [
    "ls = ['python', 'php', 'aba', 'radar', 'level']\n",
    "palindrome = list(filter(lambda x: x == x[::-1], ls))\n",
    "palindrome"
   ]
  },
  {
   "cell_type": "code",
   "execution_count": null,
   "id": "c364a55e",
   "metadata": {},
   "outputs": [],
   "source": []
  }
 ],
 "metadata": {
  "kernelspec": {
   "display_name": "Python 3 (ipykernel)",
   "language": "python",
   "name": "python3"
  },
  "language_info": {
   "codemirror_mode": {
    "name": "ipython",
    "version": 3
   },
   "file_extension": ".py",
   "mimetype": "text/x-python",
   "name": "python",
   "nbconvert_exporter": "python",
   "pygments_lexer": "ipython3",
   "version": "3.11.1"
  }
 },
 "nbformat": 4,
 "nbformat_minor": 5
}

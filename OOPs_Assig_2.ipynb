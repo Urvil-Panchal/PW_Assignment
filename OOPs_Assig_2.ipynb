{
 "cells": [
  {
   "cell_type": "markdown",
   "id": "4d201226",
   "metadata": {},
   "source": [
    "# Question 1"
   ]
  },
  {
   "cell_type": "markdown",
   "id": "93010efc",
   "metadata": {},
   "source": [
    "Abstraction is a fundamental principle in object-oriented programming (OOP) that focuses on representing the essential features of an object or system while hiding the unnecessary details. \n",
    "\n",
    "It allows programmers to create models that simplify complex systems by breaking them down into manageable and understandable parts."
   ]
  },
  {
   "cell_type": "code",
   "execution_count": 1,
   "id": "dc7ff6ba",
   "metadata": {},
   "outputs": [
    {
     "name": "stdout",
     "output_type": "stream",
     "text": [
      "Woof!\n",
      "Meow!\n"
     ]
    }
   ],
   "source": [
    "#Example\n",
    "from abc import *\n",
    "\n",
    "class Animal(ABC):\n",
    "    @abstractmethod\n",
    "    def sound(s):\n",
    "        pass\n",
    "    \n",
    "class Dog(Animal):\n",
    "    def sound(s):\n",
    "        return 'Woof!'\n",
    "\n",
    "class Cat(Animal):\n",
    "    def sound(s):\n",
    "        return 'Meow!'\n",
    "    \n",
    "d = Dog()\n",
    "c = Cat()\n",
    "\n",
    "print(d.sound())\n",
    "print(c.sound())"
   ]
  },
  {
   "cell_type": "markdown",
   "id": "5f85bf8c",
   "metadata": {},
   "source": [
    "# Question 2"
   ]
  },
  {
   "cell_type": "raw",
   "id": "72f5912b",
   "metadata": {},
   "source": [
    "                 Abstraction                                     Encapsulation\n",
    "\n",
    "Abstraction focuses on hiding the internal    | Encapsulation is about bundeling data and together and \n",
    "details or complexities of a system and only  | restricting access to inner working of an object from\n",
    "showing the essential features to users.      | the outside.\n",
    "                                              |\n",
    "Allow for creating hierarchical relationship  | Supports information hiding and data hiding and data\n",
    "between classes, defining common structure    | protection by preventing direct access to internal\n",
    "and behavior.                                 | data.\n",
    "                                              |\n",
    "Promotes codes reusability and modularity.    | Enhance data security and code maintenance."
   ]
  },
  {
   "cell_type": "code",
   "execution_count": 2,
   "id": "c9adbb64",
   "metadata": {},
   "outputs": [
    {
     "name": "stdout",
     "output_type": "stream",
     "text": [
      "Woof!\n",
      "Meow!\n"
     ]
    }
   ],
   "source": [
    "# Abstraction Example\n",
    "from abc import *\n",
    "\n",
    "class Animal(ABC):\n",
    "    @abstractmethod\n",
    "    def sound(s):\n",
    "        pass\n",
    "    \n",
    "class Dog(Animal):\n",
    "    def sound(s):\n",
    "        return 'Woof!'\n",
    "\n",
    "class Cat(Animal):\n",
    "    def sound(s):\n",
    "        return 'Meow!'\n",
    "    \n",
    "d = Dog()\n",
    "c = Cat()\n",
    "\n",
    "print(d.sound())\n",
    "print(c.sound())"
   ]
  },
  {
   "cell_type": "code",
   "execution_count": 6,
   "id": "53b48466",
   "metadata": {},
   "outputs": [
    {
     "name": "stdout",
     "output_type": "stream",
     "text": [
      "Name is: Urvil\n",
      "Age is: 20\n",
      "After setting the age\n",
      "Age is: 30\n"
     ]
    }
   ],
   "source": [
    "#Encapsulation Example.\n",
    "class Person:\n",
    "    def __init__(s,name,age,email):\n",
    "        s.name = name\n",
    "        s.age = age\n",
    "        s.email = email\n",
    "    \n",
    "    def get_name(s):\n",
    "        return s.name\n",
    "    \n",
    "    def get_age(s):\n",
    "        return s.age\n",
    "    \n",
    "    def set_age(s,new_age):\n",
    "        s.age = new_age\n",
    "        \n",
    "    def get_email(s):\n",
    "        return s.email\n",
    "    \n",
    "    def set_email(s,new_email):\n",
    "        s.email = new_email\n",
    "        \n",
    "        \n",
    "p = Person('Urvil',20,'urvil.ait@gmail.com')\n",
    "print('Name is:',p.get_name())\n",
    "print('Age is:',p.get_age())\n",
    "\n",
    "print('After setting the age')\n",
    "p.set_age(30)\n",
    "print('Age is:',p.get_age())"
   ]
  },
  {
   "cell_type": "markdown",
   "id": "c9bfc03d",
   "metadata": {},
   "source": [
    "# Question 3"
   ]
  },
  {
   "cell_type": "raw",
   "id": "be9b27e3",
   "metadata": {},
   "source": [
    "The 'abc' module provides the 'ABC' class, which is used as a base class for defining abstract classes. Abstract classes can have abstract methods, which are delcared using decorator '@abstractmethod'. \n",
    "\n",
    "The 'abc' module provides a powerfull mechanism for defining abstract classes and interfaces in Python, promoting code abstraction, reuse,and design consistency."
   ]
  },
  {
   "cell_type": "markdown",
   "id": "a82751ae",
   "metadata": {},
   "source": [
    "# Question 4"
   ]
  },
  {
   "cell_type": "raw",
   "id": "6e0086c9",
   "metadata": {},
   "source": [
    "How can we achieve data abstraction in python.\n",
    "\n",
    "1. Data abstraction is achieved using abstract methods in class.\n",
    "   Abstract methods are declared using decorating them using '@abstractmethod' decorator.\n",
    "\n",
    "2. In python using access modifiers like private and protected we can achieve abstraction.\n",
    "   To declare any variable or method as 'Private' we use single underscore ( '_' ).\n",
    "   To decalre any variable or method as 'Protected' we use double underscore ( '__')."
   ]
  },
  {
   "cell_type": "code",
   "execution_count": 13,
   "id": "25e6f05e",
   "metadata": {},
   "outputs": [
    {
     "name": "stdout",
     "output_type": "stream",
     "text": [
      "Public Method\n",
      "Private Method\n",
      "Protected Method\n"
     ]
    }
   ],
   "source": [
    "#Example\n",
    "class Demo:\n",
    "    def __init__(s):\n",
    "        s._private_var = 13\n",
    "        s.__protected_var = \"Urvil\"\n",
    "        \n",
    "    def _private_method(s):\n",
    "        print('Private Method')\n",
    "    \n",
    "    def __protected_method(s):\n",
    "        print('Protected Method')\n",
    "        \n",
    "    def public_method(s):\n",
    "        print(\"Public Method\")\n",
    "        s._private_method()\n",
    "        s.__protected_method()\n",
    "        \n",
    "obj = Demo()\n",
    "\n",
    "obj.public_method()"
   ]
  },
  {
   "cell_type": "markdown",
   "id": "e430b3b1",
   "metadata": {},
   "source": [
    "# Question 5"
   ]
  },
  {
   "cell_type": "raw",
   "id": "743939ee",
   "metadata": {},
   "source": [
    "Data abstraction in Python can be achieved through encapsulation. Encapsulation involves bundling\n",
    "data and related methods into a single unit(like class) and restricting direct access to the data \n",
    "from outside the class.\n",
    "\n",
    "By marking attributes as private or protected and providing getter and setter methods to access and\n",
    "modify the data.This helps in hiding unnecassary details and exposing only essentials features, \n",
    "promoting code maintenance and modularity."
   ]
  },
  {
   "cell_type": "code",
   "execution_count": null,
   "id": "4aed998a",
   "metadata": {},
   "outputs": [],
   "source": []
  }
 ],
 "metadata": {
  "kernelspec": {
   "display_name": "Python 3 (ipykernel)",
   "language": "python",
   "name": "python3"
  },
  "language_info": {
   "codemirror_mode": {
    "name": "ipython",
    "version": 3
   },
   "file_extension": ".py",
   "mimetype": "text/x-python",
   "name": "python",
   "nbconvert_exporter": "python",
   "pygments_lexer": "ipython3",
   "version": "3.11.1"
  }
 },
 "nbformat": 4,
 "nbformat_minor": 5
}

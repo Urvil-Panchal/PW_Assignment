{
 "cells": [
  {
   "cell_type": "markdown",
   "id": "d6b143a9",
   "metadata": {},
   "source": [
    "# Question 1: Comment  in Python"
   ]
  },
  {
   "cell_type": "code",
   "execution_count": 1,
   "id": "29fed03b",
   "metadata": {
    "collapsed": true
   },
   "outputs": [
    {
     "ename": "SyntaxError",
     "evalue": "invalid syntax (4243754414.py, line 1)",
     "output_type": "error",
     "traceback": [
      "\u001b[1;36m  File \u001b[1;32m\"C:\\Users\\Urvil_P\\AppData\\Local\\Temp\\ipykernel_8928\\4243754414.py\"\u001b[1;36m, line \u001b[1;32m1\u001b[0m\n\u001b[1;33m    Two ways to comment code in python\u001b[0m\n\u001b[1;37m        ^\u001b[0m\n\u001b[1;31mSyntaxError\u001b[0m\u001b[1;31m:\u001b[0m invalid syntax\n"
     ]
    }
   ],
   "source": [
    "Two ways to comment code in python\n",
    "\n",
    "1) Single Line Comment: Using '#' symbol at start of statement.\n",
    "# This is comment\n",
    "\n",
    "2) Multi Line Comment : Using ''' ''' (triple quatation). \n",
    "\t'''Whatever text written in triple quatation considered as commment'''."
   ]
  },
  {
   "cell_type": "markdown",
   "id": "d31c0ae4",
   "metadata": {},
   "source": [
    "# Question 2: Variable and how to declare them."
   ]
  },
  {
   "cell_type": "code",
   "execution_count": null,
   "id": "dc1426cb",
   "metadata": {},
   "outputs": [],
   "source": [
    "'''\n",
    "Variables are used to store and manipulate data. \n",
    "They act as containers that hold values of various \n",
    "types such as numbers, strings, lists, dictionaries, and more. \n",
    "'''\n",
    "# Variable Declaration\n",
    "\n",
    "# variable_name = value\n",
    "\n",
    "#Example:-\n",
    "name = \"Urvil Panchal\"\n",
    "age = 20\n",
    "cgpa = 8.09"
   ]
  },
  {
   "cell_type": "markdown",
   "id": "6738c565",
   "metadata": {},
   "source": [
    "# Question 3: Type-casting in Python"
   ]
  },
  {
   "cell_type": "code",
   "execution_count": 21,
   "id": "25b2b7ef",
   "metadata": {},
   "outputs": [
    {
     "name": "stdout",
     "output_type": "stream",
     "text": [
      "<class 'int'>\n",
      "<class 'str'>\n",
      "<class 'str'>\n",
      "<class 'list'>\n"
     ]
    }
   ],
   "source": [
    "# changing int to string\n",
    "a = 13\n",
    "print(type(a))\n",
    "a = str(a)\n",
    "print(type(a))\n",
    "\n",
    "'''changing string to list''' \n",
    "\n",
    "s = \"string\"\n",
    "print(type(s))\n",
    "s = list(s)\n",
    "print(type(s))"
   ]
  },
  {
   "cell_type": "markdown",
   "id": "595662c5",
   "metadata": {},
   "source": [
    "# Question 4: Run python script using command line."
   ]
  },
  {
   "cell_type": "code",
   "execution_count": 22,
   "id": "00653840",
   "metadata": {},
   "outputs": [
    {
     "name": "stdout",
     "output_type": "stream",
     "text": [
      "Running this Python File using cmd\n"
     ]
    }
   ],
   "source": [
    "# I have made this file - Assig_2_Q_4.py in my directory.\n",
    "'''\n",
    "For writing the python script in command first have to type 'python' as command.\n",
    "And this will start Python Interpreter in command prompt, and then we can write \n",
    "code in python in that enviroment.\n",
    "'''\n",
    "\n",
    "# Executing the Python file using the command.\n",
    "!Assig_2_Q_4.py"
   ]
  },
  {
   "cell_type": "markdown",
   "id": "1e4bed22",
   "metadata": {},
   "source": [
    "# Question 5: Slicing the List."
   ]
  },
  {
   "cell_type": "code",
   "execution_count": 23,
   "id": "407d065c",
   "metadata": {},
   "outputs": [
    {
     "data": {
      "text/plain": [
       "[2, 3]"
      ]
     },
     "execution_count": 23,
     "metadata": {},
     "output_type": "execute_result"
    }
   ],
   "source": [
    "my_list = [1,2,3,4,5] \n",
    "# Goal is to obtain sublist [2,3]\n",
    "sliced_list = my_list[1:3]\n",
    "sliced_list"
   ]
  },
  {
   "cell_type": "markdown",
   "id": "d605ebc4",
   "metadata": {},
   "source": [
    "# Question 6: Complex number in math and represent in python. "
   ]
  },
  {
   "cell_type": "code",
   "execution_count": 24,
   "id": "73e3b3ea",
   "metadata": {},
   "outputs": [
    {
     "data": {
      "text/plain": [
       "complex"
      ]
     },
     "execution_count": 24,
     "metadata": {},
     "output_type": "execute_result"
    }
   ],
   "source": [
    "'''\n",
    "complex number:- \n",
    "\tIn mathematics, a complex number is a number that can be expressed in the form a + bi, \n",
    "    where a and b are real numbers, and i represents the imaginary unit.\n",
    "'''\n",
    "# Represent complex number in Python\n",
    "\n",
    "# The imaginary part is represented using 'complex' datatype.\n",
    "# The imaginary part is denoted by adding a suffix of j or J to the numerical value.\n",
    "a = 3 + 4j\n",
    "type(a)"
   ]
  },
  {
   "cell_type": "markdown",
   "id": "e3522235",
   "metadata": {},
   "source": [
    "# Question 7: Correct way to declare age variable as assign value 25 to it."
   ]
  },
  {
   "cell_type": "code",
   "execution_count": 25,
   "id": "1e614d9a",
   "metadata": {},
   "outputs": [],
   "source": [
    "age = 25"
   ]
  },
  {
   "cell_type": "markdown",
   "id": "b4b4d2a2",
   "metadata": {},
   "source": [
    "# Question 8: Declare variable Price and assign value 9.99"
   ]
  },
  {
   "cell_type": "code",
   "execution_count": 26,
   "id": "e1a06c08",
   "metadata": {},
   "outputs": [
    {
     "name": "stdout",
     "output_type": "stream",
     "text": [
      "Data type of 9.99 is <class 'float'>\n"
     ]
    }
   ],
   "source": [
    "Price = 9.99\n",
    "print(f'Data type of {Price} is {type(Price)}')"
   ]
  },
  {
   "cell_type": "markdown",
   "id": "43492b79",
   "metadata": {},
   "source": [
    "# Question 9: Variable name and assign Full Name"
   ]
  },
  {
   "cell_type": "code",
   "execution_count": 27,
   "id": "7adc2ba6",
   "metadata": {},
   "outputs": [
    {
     "name": "stdout",
     "output_type": "stream",
     "text": [
      "Urvil Panchal\n"
     ]
    }
   ],
   "source": [
    "name = \"Urvil Panchal\"\n",
    "print(name)"
   ]
  },
  {
   "cell_type": "markdown",
   "id": "fba2de44",
   "metadata": {},
   "source": [
    "# Question 10: Substring for the String"
   ]
  },
  {
   "cell_type": "code",
   "execution_count": 28,
   "id": "bbb2fd39",
   "metadata": {},
   "outputs": [
    {
     "data": {
      "text/plain": [
       "'World'"
      ]
     },
     "execution_count": 28,
     "metadata": {},
     "output_type": "execute_result"
    }
   ],
   "source": [
    "s = \"Hello World!\"\n",
    "x = s.index(\" \")\n",
    "type(x)\n",
    "new_str = s[6 : -1]\n",
    "new_str"
   ]
  },
  {
   "cell_type": "markdown",
   "id": "4146bdc8",
   "metadata": {},
   "source": [
    "# Question 11: Boolean variable to show you're student or not"
   ]
  },
  {
   "cell_type": "code",
   "execution_count": 29,
   "id": "3565b1dc",
   "metadata": {},
   "outputs": [
    {
     "name": "stdout",
     "output_type": "stream",
     "text": [
      "Yes, I am Student!\n"
     ]
    }
   ],
   "source": [
    "is_student = True\n",
    "if(is_student):\n",
    "    print('Yes, I am Student!')\n",
    "else:\n",
    "    print('No, I am not student anymore')"
   ]
  },
  {
   "cell_type": "code",
   "execution_count": null,
   "id": "accedfe5",
   "metadata": {},
   "outputs": [],
   "source": []
  }
 ],
 "metadata": {
  "kernelspec": {
   "display_name": "Python 3 (ipykernel)",
   "language": "python",
   "name": "python3"
  },
  "language_info": {
   "codemirror_mode": {
    "name": "ipython",
    "version": 3
   },
   "file_extension": ".py",
   "mimetype": "text/x-python",
   "name": "python",
   "nbconvert_exporter": "python",
   "pygments_lexer": "ipython3",
   "version": "3.9.13"
  }
 },
 "nbformat": 4,
 "nbformat_minor": 5
}

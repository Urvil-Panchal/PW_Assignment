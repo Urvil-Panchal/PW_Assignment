{
 "cells": [
  {
   "cell_type": "markdown",
   "id": "1266c392",
   "metadata": {},
   "source": [
    "# Question 1"
   ]
  },
  {
   "cell_type": "raw",
   "id": "94438840",
   "metadata": {},
   "source": [
    "# Class and Object\n",
    "\n",
    "Class : Class is blueprint for creating the objects. It defines data and behaviour that all objectd of that will have.\n",
    "        Classes are the user-defined data types that act as blueprint for individual objects.\n",
    "    \n",
    "Object: Objects are the real world entitits having some properties and functionalities.\n",
    "        Objects are the instances of a class created with specially defined data."
   ]
  },
  {
   "cell_type": "code",
   "execution_count": 4,
   "id": "740af508",
   "metadata": {},
   "outputs": [
    {
     "name": "stdout",
     "output_type": "stream",
     "text": [
      "Krish Sir\n"
     ]
    }
   ],
   "source": [
    "class PwSkill:\n",
    "    def Python(x):\n",
    "        print('Sudhanshu sir')\n",
    "    def Statistic(x):\n",
    "        print('Krish Sir')\n",
    "\n",
    "student = PwSkill()\n",
    "student.Statistic()\n",
    "\n",
    "'''\n",
    "Here 'PwSkills' is the class and the 'student' is the object of that class.\n",
    "'''"
   ]
  },
  {
   "cell_type": "markdown",
   "id": "d927f329",
   "metadata": {},
   "source": [
    "# Question 2"
   ]
  },
  {
   "cell_type": "raw",
   "id": "fee3570b",
   "metadata": {},
   "source": [
    "The four pillars of Object Oriented Programming are:\n",
    "\n",
    "1. Inheritance:\n",
    "    Inheritance is when one class inherits the properties and methods of another class.\n",
    "    Class which is inheriting the from other class is called Child Class.\n",
    "    Class from which child class inherited is called Parent Class.\n",
    "    \n",
    "2. Abstraction:\n",
    "    Abstraction is the process of hiding the internal details of system from the outer world.\n",
    "   \n",
    "3. Polymorphism:\n",
    "    Polymorphism means many forms. Means system have some same entities working differently for \n",
    "    specific conditions or for specific purpose.\n",
    "    \n",
    "4. Encapsulation:\n",
    "    Encapsulation in OOP is used for bundling the data, along with the methods that operate on that\n",
    "    data into a single unit."
   ]
  },
  {
   "cell_type": "markdown",
   "id": "84b89c2e",
   "metadata": {},
   "source": [
    "# Question 3"
   ]
  },
  {
   "cell_type": "raw",
   "id": "dfd02c85",
   "metadata": {},
   "source": [
    "The __init__() is the initialization function.\n",
    "__init__ is the constructor of the class. \n",
    "\n",
    "The __init__() method initialize the object's attributes like properites and methods which that object can use.\n",
    "\n",
    "The __init__() method will automatically called at the time of object creation."
   ]
  },
  {
   "cell_type": "code",
   "execution_count": 6,
   "id": "795c8e7a",
   "metadata": {},
   "outputs": [
    {
     "name": "stdout",
     "output_type": "stream",
     "text": [
      "Addition is 10\n"
     ]
    }
   ],
   "source": [
    "class Add:\n",
    "    def __init__(self,one,two):\n",
    "        self.o = one\n",
    "        self.t = two\n",
    "        print('Addition is',self.o+self.t)\n",
    "    \n",
    "sum = Add(4,6)"
   ]
  },
  {
   "cell_type": "markdown",
   "id": "124818de",
   "metadata": {},
   "source": [
    "# Question 4"
   ]
  },
  {
   "cell_type": "raw",
   "id": "dfdc074a",
   "metadata": {},
   "source": [
    "Self is not the keyword. It is just a word that helps in binding the methods and arguments of class with that class.\n",
    "Any word or letter can be used instead of self.\n",
    "\n",
    "Without binding the methods and arguments to that class we can't access those in class."
   ]
  },
  {
   "cell_type": "markdown",
   "id": "eb6df63e",
   "metadata": {},
   "source": [
    "# Question 5"
   ]
  },
  {
   "cell_type": "raw",
   "id": "d801705a",
   "metadata": {},
   "source": [
    "Inheritance:\n",
    " Inheritance is when one class inherits the properties and methods of another class.\n",
    " Class which is inheriting the from other class is called Child Class.\n",
    " Class from which child class inherited is called Parent Class."
   ]
  },
  {
   "cell_type": "code",
   "execution_count": 9,
   "id": "3e634bb0",
   "metadata": {},
   "outputs": [
    {
     "name": "stdout",
     "output_type": "stream",
     "text": [
      "10\n"
     ]
    }
   ],
   "source": [
    "#Single Inheritance\n",
    "class one:\n",
    "    a = 10\n",
    "class two(one):   '''one --> two'''\n",
    "    b = 20\n",
    "\n",
    "t = two()\n",
    "print(t.a)"
   ]
  },
  {
   "cell_type": "code",
   "execution_count": 11,
   "id": "46197ae3",
   "metadata": {},
   "outputs": [
    {
     "data": {
      "text/plain": [
       "10"
      ]
     },
     "execution_count": 11,
     "metadata": {},
     "output_type": "execute_result"
    }
   ],
   "source": [
    "# Multi_level Inheritance\n",
    "class three(two): '''(two --> three) = (one --> two --> three)''' \n",
    "    c = 30\n",
    "    \n",
    "c = three()\n",
    "c.a"
   ]
  },
  {
   "cell_type": "code",
   "execution_count": 17,
   "id": "6f537079",
   "metadata": {},
   "outputs": [
    {
     "data": {
      "text/plain": [
       "40"
      ]
     },
     "execution_count": 17,
     "metadata": {},
     "output_type": "execute_result"
    }
   ],
   "source": [
    "# Multiple Inheritance\n",
    "class four():\n",
    "    d = 40\n",
    "class five(one,four):  '''(one --> five) and also (four --> five)'''\n",
    "    e = 40\n",
    "    \n",
    "e = five()\n",
    "e.d"
   ]
  }
 ],
 "metadata": {
  "kernelspec": {
   "display_name": "Python 3 (ipykernel)",
   "language": "python",
   "name": "python3"
  },
  "language_info": {
   "codemirror_mode": {
    "name": "ipython",
    "version": 3
   },
   "file_extension": ".py",
   "mimetype": "text/x-python",
   "name": "python",
   "nbconvert_exporter": "python",
   "pygments_lexer": "ipython3",
   "version": "3.11.1"
  }
 },
 "nbformat": 4,
 "nbformat_minor": 5
}

{
 "cells": [
  {
   "cell_type": "markdown",
   "id": "fd55d2a7",
   "metadata": {},
   "source": [
    "# Question 1. Variable of Following Data Types"
   ]
  },
  {
   "cell_type": "code",
   "execution_count": 1,
   "id": "8d66bbeb",
   "metadata": {},
   "outputs": [
    {
     "name": "stdout",
     "output_type": "stream",
     "text": [
      "i) String: <class 'str'>\n",
      "ii) List: <class 'list'>\n",
      "iii) Float: <class 'float'>\n",
      "iv) Tuple: <class 'tuple'>\n"
     ]
    }
   ],
   "source": [
    "s = \"String_Variable\"\n",
    "l = [\"List\", 13]\n",
    "f = 13.13\n",
    "t = (\"tuple\", 13, 13.13)\n",
    "print(\"i) String:\",type(s))\n",
    "print(\"ii) List:\",type(l))\n",
    "print(\"iii) Float:\",type(f))\n",
    "print(\"iv) Tuple:\",type(t))"
   ]
  },
  {
   "cell_type": "markdown",
   "id": "84c6ef1d",
   "metadata": {},
   "source": [
    "# Question 2. Data Types of following variables"
   ]
  },
  {
   "cell_type": "code",
   "execution_count": 2,
   "id": "b635bb4c",
   "metadata": {
    "scrolled": true
   },
   "outputs": [
    {
     "name": "stdout",
     "output_type": "stream",
     "text": [
      "i) var1: <class 'str'>\n",
      "ii) var2: <class 'str'>\n",
      "iii) var3: <class 'list'>\n",
      "iv) var4: <class 'float'>\n"
     ]
    }
   ],
   "source": [
    "var1 = ''\n",
    "var2 = '[ DS , ML , Python]'\n",
    "var3 = [ 'DS' , 'ML' , 'Python' ]\n",
    "var4 = 1.\n",
    "\n",
    "print(\"i) var1:\",type(var1))\n",
    "print(\"ii) var2:\",type(var2))\n",
    "print(\"iii) var3:\",type(var3))\n",
    "print(\"iv) var4:\",type(var4))"
   ]
  },
  {
   "cell_type": "markdown",
   "id": "6d5f92eb",
   "metadata": {},
   "source": [
    "# Question 3. Use of Following Operators"
   ]
  },
  {
   "cell_type": "code",
   "execution_count": 3,
   "id": "9d9ba743",
   "metadata": {},
   "outputs": [
    {
     "name": "stdout",
     "output_type": "stream",
     "text": [
      "/ operator is used to perform mathematical division operation.\n",
      "Example:  2.0\n",
      "\n",
      "% operator is used to perform mathematical modulo operation.\n",
      "Example:  1\n",
      "\n",
      "// operator is used to perform mathematical floor division.\n",
      "Example:  2\n",
      "\n",
      "** operator is used to perform mathematical exponential operation.\n",
      "Example:  100000\n"
     ]
    }
   ],
   "source": [
    "#1  /\n",
    "print(\"/ operator is used to perform mathematical division operation.\")\n",
    "print(\"Example: \", 10/5)\n",
    "\n",
    "#2 %\n",
    "print(\"\\n% operator is used to perform mathematical modulo operation.\")\n",
    "print(\"Example: \", 10%9)\n",
    "\n",
    "#3 //\n",
    "print(\"\\n// operator is used to perform mathematical floor division.\")\n",
    "print(\"Example: \", 10//5)\n",
    "\n",
    "#4 **\n",
    "print(\"\\n** operator is used to perform mathematical exponential operation.\")\n",
    "print(\"Example: \", 10**5)"
   ]
  },
  {
   "cell_type": "markdown",
   "id": "3e27986d",
   "metadata": {},
   "source": [
    "# Question 4. Print List of Length 10 using for loop"
   ]
  },
  {
   "cell_type": "code",
   "execution_count": 4,
   "id": "15853b85",
   "metadata": {},
   "outputs": [
    {
     "name": "stdout",
     "output_type": "stream",
     "text": [
      "Physics\n",
      "Wallah\n",
      "❤️\n",
      "1\n",
      "10.2\n",
      "True\n",
      "False\n",
      "[None]\n",
      "None\n",
      "{None}\n"
     ]
    }
   ],
   "source": [
    "_list = ['Physics', 'Wallah', '❤️', 1 , 10.2,  True , False, [None] , (None), {None}]\n",
    "\n",
    "for i in _list:\n",
    "    print(i)\n"
   ]
  },
  {
   "cell_type": "markdown",
   "id": "df76111d",
   "metadata": {},
   "source": [
    "# Question 5. A divisible by B using while and if "
   ]
  },
  {
   "cell_type": "code",
   "execution_count": 5,
   "id": "f50d3ec5",
   "metadata": {},
   "outputs": [
    {
     "name": "stdout",
     "output_type": "stream",
     "text": [
      "Enter number:1000\n",
      "Enter number:5\n",
      "1000 is purely divisibe by 5 for 3 times.\n"
     ]
    }
   ],
   "source": [
    "A = int(input(\"Enter number:\"))\n",
    "B = int(input(\"Enter number:\"))\n",
    "c=0\n",
    "Z = A\n",
    "while(Z%B == 0):\n",
    "    if(Z%B==0):\n",
    "        Z = Z/B\n",
    "        c = c+1\n",
    "    else:\n",
    "        print('Not Divisible Further')\n",
    "        break\n",
    "\n",
    "print(f\"{A} is purely divisibe by {B} for {c} times.\")"
   ]
  },
  {
   "cell_type": "markdown",
   "id": "0fc111b0",
   "metadata": {},
   "source": [
    "# Question 6. List of 25 elements and check which of them are divisible by 3."
   ]
  },
  {
   "cell_type": "code",
   "execution_count": 6,
   "id": "65a27923",
   "metadata": {},
   "outputs": [
    {
     "name": "stdout",
     "output_type": "stream",
     "text": [
      "1 is not Divisible by 3\n",
      "2 is not Divisible by 3\n",
      "3 is Divisible by 3\n",
      "4 is not Divisible by 3\n",
      "5 is not Divisible by 3\n",
      "6 is Divisible by 3\n",
      "7 is not Divisible by 3\n",
      "8 is not Divisible by 3\n",
      "9 is Divisible by 3\n",
      "10 is not Divisible by 3\n",
      "11 is not Divisible by 3\n",
      "12 is Divisible by 3\n",
      "13 is not Divisible by 3\n",
      "14 is not Divisible by 3\n",
      "15 is Divisible by 3\n",
      "16 is not Divisible by 3\n",
      "17 is not Divisible by 3\n",
      "18 is Divisible by 3\n",
      "19 is not Divisible by 3\n",
      "20 is not Divisible by 3\n",
      "21 is Divisible by 3\n",
      "22 is not Divisible by 3\n",
      "23 is not Divisible by 3\n",
      "24 is Divisible by 3\n",
      "25 is not Divisible by 3\n"
     ]
    }
   ],
   "source": [
    "_nlist = [1,2,3,4,5,6,7,8,9,10,11,12,13,14,15,16,17,18,19,20,21,22,23,24,25]\n",
    "\n",
    "for i in _nlist:\n",
    "    if(i%3 == 0):\n",
    "        print(f'{i} is Divisible by 3')\n",
    "    else:\n",
    "        print(f'{i} is not Divisible by 3')"
   ]
  },
  {
   "cell_type": "markdown",
   "id": "edc1e68a",
   "metadata": {},
   "source": [
    "# Question 7. Mutable and Immutable Data Types"
   ]
  },
  {
   "cell_type": "code",
   "execution_count": 7,
   "id": "87640154",
   "metadata": {},
   "outputs": [
    {
     "ename": "TypeError",
     "evalue": "'tuple' object does not support item assignment",
     "output_type": "error",
     "traceback": [
      "\u001b[1;31m---------------------------------------------------------------------------\u001b[0m",
      "\u001b[1;31mTypeError\u001b[0m                                 Traceback (most recent call last)",
      "\u001b[1;32m~\\AppData\\Local\\Temp\\ipykernel_11712\\1136262685.py\u001b[0m in \u001b[0;36m<module>\u001b[1;34m\u001b[0m\n\u001b[0;32m      6\u001b[0m \u001b[1;33m\u001b[0m\u001b[0m\n\u001b[0;32m      7\u001b[0m \u001b[0mtup\u001b[0m \u001b[1;33m=\u001b[0m \u001b[1;33m(\u001b[0m\u001b[1;34m'String'\u001b[0m\u001b[1;33m,\u001b[0m \u001b[1;36m1\u001b[0m\u001b[1;33m,\u001b[0m \u001b[1;36m3.0\u001b[0m\u001b[1;33m)\u001b[0m\u001b[1;33m\u001b[0m\u001b[1;33m\u001b[0m\u001b[0m\n\u001b[1;32m----> 8\u001b[1;33m \u001b[0mtup\u001b[0m\u001b[1;33m[\u001b[0m\u001b[1;33m-\u001b[0m\u001b[1;36m1\u001b[0m\u001b[1;33m]\u001b[0m \u001b[1;33m=\u001b[0m \u001b[1;34m\"newString\"\u001b[0m \u001b[1;31m# Not possible to change the value in tuple.\u001b[0m\u001b[1;33m\u001b[0m\u001b[1;33m\u001b[0m\u001b[0m\n\u001b[0m",
      "\u001b[1;31mTypeError\u001b[0m: 'tuple' object does not support item assignment"
     ]
    }
   ],
   "source": [
    "mutable = \"Mutable objects can be modified or changed after their declaration.\"\n",
    "immutable = \"Immutable objects can not be modified after their declaration.\"\n",
    "\n",
    "_ls = ['String' , 1 , 3.0]\n",
    "_ls[-1] = \"newString\" # Possible to change the value in list.\n",
    "\n",
    "tup = ('String', 1, 3.0)\n",
    "tup[-1] = \"newString\" # Not possible to change the value in tuple."
   ]
  },
  {
   "cell_type": "code",
   "execution_count": null,
   "id": "ff25d12c",
   "metadata": {},
   "outputs": [],
   "source": []
  }
 ],
 "metadata": {
  "kernelspec": {
   "display_name": "Python 3 (ipykernel)",
   "language": "python",
   "name": "python3"
  },
  "language_info": {
   "codemirror_mode": {
    "name": "ipython",
    "version": 3
   },
   "file_extension": ".py",
   "mimetype": "text/x-python",
   "name": "python",
   "nbconvert_exporter": "python",
   "pygments_lexer": "ipython3",
   "version": "3.9.13"
  }
 },
 "nbformat": 4,
 "nbformat_minor": 5
}

{
 "cells": [
  {
   "cell_type": "markdown",
   "id": "2bd584f4",
   "metadata": {},
   "source": [
    "# Question 1:"
   ]
  },
  {
   "cell_type": "code",
   "execution_count": 1,
   "id": "adf348af",
   "metadata": {},
   "outputs": [
    {
     "data": {
      "text/plain": [
       "[1, 3, 5, 7, 9, 11, 13, 15, 17, 19, 21, 23, 25]"
      ]
     },
     "execution_count": 1,
     "metadata": {},
     "output_type": "execute_result"
    }
   ],
   "source": [
    "'''\n",
    "-> 'def' keyword is used to define the function followed by function name.\n",
    "    Example: def function_name:\n",
    "                code...\n",
    "'''\n",
    "\n",
    "def odd_list():\n",
    "    x = []\n",
    "    for i in range(1,26):\n",
    "        if(i%2 != 0):\n",
    "            x.append(i)\n",
    "        else:\n",
    "            pass\n",
    "    return x\n",
    "\n",
    "ls = odd_list()\n",
    "ls"
   ]
  },
  {
   "cell_type": "markdown",
   "id": "8284cc8a",
   "metadata": {},
   "source": [
    "# Question 2"
   ]
  },
  {
   "cell_type": "code",
   "execution_count": 2,
   "id": "d6686815",
   "metadata": {},
   "outputs": [
    {
     "name": "stdout",
     "output_type": "stream",
     "text": [
      "*args Example\n",
      "Urvil \n",
      "Urvil Panchal \n",
      "Urvil Panchal PW_Skills \n",
      "\n",
      "**kwargs Example\n",
      "Key => Value\n",
      "name => Urvil sname => Panchal \n",
      "name => Urvil sname => Panchal organization => PW-Skills \n"
     ]
    }
   ],
   "source": [
    "'''\n",
    "*agrs : Are the Non-Keyword Arguments passed to a Function.\n",
    "        *agrs allow you to take the more argument than the number\n",
    "        defined while creating the functions.\n",
    "        \n",
    "**kwarg: Are the Keyword Argument passed to function as dictionary.\n",
    "         \n",
    "'''\n",
    "\n",
    "def test_funct1(*args):\n",
    "    for item in args:\n",
    "        print(item, end=' ')\n",
    "    print()\n",
    "        \n",
    "def test_funct2(**kwargs):\n",
    "    for key , value in kwargs.items():\n",
    "        print(key ,'=>',value, end=' ')\n",
    "    print()\n",
    "        \n",
    "print(\"*args Example\")\n",
    "test_funct1('Urvil')\n",
    "test_funct1('Urvil' , 'Panchal')\n",
    "test_funct1('Urvil' , 'Panchal', 'PW_Skills')\n",
    "print()\n",
    "\n",
    "print('**kwargs Example')\n",
    "print('Key => Value')\n",
    "test_funct2(name='Urvil', sname='Panchal')\n",
    "test_funct2(name='Urvil', sname='Panchal', organization=\"PW-Skills\")"
   ]
  },
  {
   "cell_type": "markdown",
   "id": "0ab0f4aa",
   "metadata": {},
   "source": [
    "# Questions 3"
   ]
  },
  {
   "cell_type": "code",
   "execution_count": 3,
   "id": "34553169",
   "metadata": {},
   "outputs": [
    {
     "name": "stdout",
     "output_type": "stream",
     "text": [
      "First 5 elements of List:2 4 6 8 10 "
     ]
    }
   ],
   "source": [
    "'''\n",
    "An iterator is object that allows traversal or iteration over a sequence of elements. \n",
    "It provides a way to access the elements of a container(like list or string) one by one.\n",
    "\n",
    "iter() method is used to convert iterable object to iterator.\n",
    "next() method is used to access the next element of iterator.\n",
    "'''\n",
    "\n",
    "ls = [2,4,6,8,10,12,14,16,18,20]\n",
    "iterator = iter(ls)\n",
    "print('First 5 elements of List:',end ='')\n",
    "for i in range(5):\n",
    "    print(next(iterator),end=' ')"
   ]
  },
  {
   "cell_type": "markdown",
   "id": "72c73c3a",
   "metadata": {},
   "source": [
    "# Question 4"
   ]
  },
  {
   "cell_type": "code",
   "execution_count": 4,
   "id": "9b562429",
   "metadata": {},
   "outputs": [
    {
     "name": "stdout",
     "output_type": "stream",
     "text": [
      "[1, 2, 3, 4, 5, 6, 7, 8, 9, 10]\n",
      "1 2 3 4 5 6 7 8 9 10 "
     ]
    }
   ],
   "source": [
    "def func():\n",
    "    '''This will return a whole list of numbers.'''\n",
    "    x=[]\n",
    "    for i in range(1,11):\n",
    "        x.append(i)\n",
    "    return x\n",
    "'''*********************************************************************'''\n",
    "def _gen():\n",
    "    '''This will produce of yield the numbers one by one.'''\n",
    "    x = 1\n",
    "    for i in range(1,11):\n",
    "        yield i\n",
    "nls = _gen()\n",
    "\n",
    "# Normal Function\n",
    "ls = func()\n",
    "print(ls)\n",
    "\n",
    "#Generator Function\n",
    "for i in nls:\n",
    "    print(i,end=' ')"
   ]
  },
  {
   "cell_type": "markdown",
   "id": "888341a6",
   "metadata": {},
   "source": [
    "# Question 5"
   ]
  },
  {
   "cell_type": "code",
   "execution_count": 5,
   "id": "3d7c9353",
   "metadata": {},
   "outputs": [
    {
     "name": "stdout",
     "output_type": "stream",
     "text": [
      "First 20 Prime Numbers:\n",
      "2 3 5 7 11 13 17 19 23 29 31 37 41 43 47 53 59 61 67 71 "
     ]
    }
   ],
   "source": [
    "def isPrime(n):\n",
    "    if n<=1:\n",
    "        return False\n",
    "    for i in range(2, int(n**0.5)+1):\n",
    "        if n%i ==0:\n",
    "            return False\n",
    "    return True\n",
    "\n",
    "def generate_prime(num):\n",
    "    for i in range(num):\n",
    "        if(isPrime(i)):\n",
    "            yield i\n",
    "\n",
    "nums = generate_prime(1000) # will generate first 1000 primes number.\n",
    "iterator = iter(nums)\n",
    "print(\"First 20 Prime Numbers:\")\n",
    "for i in range(20):\n",
    "    print(next(iterator), end=' ')"
   ]
  },
  {
   "cell_type": "markdown",
   "id": "f2de9100",
   "metadata": {},
   "source": [
    "# Question 6"
   ]
  },
  {
   "cell_type": "code",
   "execution_count": 6,
   "id": "b1282ace",
   "metadata": {},
   "outputs": [
    {
     "name": "stdout",
     "output_type": "stream",
     "text": [
      "Fibonacci Series, First 10 numbers:\n",
      "0 1 1 2 3 5 8 13 21 34 "
     ]
    }
   ],
   "source": [
    "print('Fibonacci Series, First 10 numbers:')\n",
    "c = 0\n",
    "a,b = 0,1\n",
    "while(True):\n",
    "    print(a,end=' ')\n",
    "    a,b = b, a+b\n",
    "    c+=1\n",
    "    if(c==10):\n",
    "        break"
   ]
  },
  {
   "cell_type": "markdown",
   "id": "5fa4e40c",
   "metadata": {},
   "source": [
    "# Question 7"
   ]
  },
  {
   "cell_type": "code",
   "execution_count": 7,
   "id": "14bf693a",
   "metadata": {},
   "outputs": [
    {
     "data": {
      "text/plain": [
       "['p', 'w', 's', 'k', 'i', 'l', 'l', 's']"
      ]
     },
     "execution_count": 7,
     "metadata": {},
     "output_type": "execute_result"
    }
   ],
   "source": [
    "s = \"pwskills\"\n",
    "char = [item for item in s]\n",
    "char"
   ]
  },
  {
   "cell_type": "markdown",
   "id": "ea66bd94",
   "metadata": {},
   "source": [
    "# Question 8"
   ]
  },
  {
   "cell_type": "code",
   "execution_count": 8,
   "id": "3ed37f7d",
   "metadata": {},
   "outputs": [
    {
     "name": "stdout",
     "output_type": "stream",
     "text": [
      "True\n",
      "False\n"
     ]
    }
   ],
   "source": [
    "def isPalindrome(num):\n",
    "    s = str(num)\n",
    "    start = 0\n",
    "    end = len(s)-1\n",
    "    while(start < end):\n",
    "        if(s[start] != s[end]):\n",
    "            return False\n",
    "        start += 1\n",
    "        end -= 1\n",
    "    return True\n",
    "\n",
    "print(isPalindrome(101))\n",
    "print(isPalindrome(1010))"
   ]
  },
  {
   "cell_type": "markdown",
   "id": "f009e749",
   "metadata": {},
   "source": [
    "# Question 9"
   ]
  },
  {
   "cell_type": "code",
   "execution_count": 9,
   "id": "9902ba13",
   "metadata": {},
   "outputs": [
    {
     "name": "stdout",
     "output_type": "stream",
     "text": [
      "[1, 3, 5, 7, 9, 11, 13, 15, 17, 19, 21, 23, 25, 27, 29, 31, 33, 35, 37, 39, 41, 43, 45, 47, 49, 51, 53, 55, 57, 59, 61, 63, 65, 67, 69, 71, 73, 75, 77, 79, 81, 83, 85, 87, 89, 91, 93, 95, 97, 99]\n"
     ]
    }
   ],
   "source": [
    "firstList = [(i) for i in range(1,101)]\n",
    "\n",
    "oddList = [i for i in firstList if(i%2 != 0)]\n",
    "print(oddList)"
   ]
  },
  {
   "cell_type": "code",
   "execution_count": null,
   "id": "9dfad21f",
   "metadata": {},
   "outputs": [],
   "source": []
  }
 ],
 "metadata": {
  "kernelspec": {
   "display_name": "Python 3 (ipykernel)",
   "language": "python",
   "name": "python3"
  },
  "language_info": {
   "codemirror_mode": {
    "name": "ipython",
    "version": 3
   },
   "file_extension": ".py",
   "mimetype": "text/x-python",
   "name": "python",
   "nbconvert_exporter": "python",
   "pygments_lexer": "ipython3",
   "version": "3.11.1"
  }
 },
 "nbformat": 4,
 "nbformat_minor": 5
}

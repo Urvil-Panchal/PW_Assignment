{
 "cells": [
  {
   "cell_type": "markdown",
   "id": "656ba00d",
   "metadata": {},
   "source": [
    "# Question 1"
   ]
  },
  {
   "cell_type": "markdown",
   "id": "ecd3fe5e",
   "metadata": {},
   "source": [
    "A database is a structured collection of data that is organized and stored for easy access, retrieval, and management. It serves as a central repository for storing and managing data for various applications.\n",
    "\n",
    "SQL:\n",
    "\n",
    "SQL databases are based on the relational model.\n",
    "They use structured tables with predefined schemas to store data.\n",
    "SQL databases have a fixed schema, meaning the structure of the data is determined in advance.\n",
    "They use SQL as the query language for defining and manipulating the data.\n",
    "SQL databases provide strong consistency, meaning that data is always in a valid and predictable state.\n",
    "Examples of SQL databases include MySQL, Oracle, and PostgreSQL.\n",
    "\n",
    "NoSQL:\n",
    "\n",
    "NoSQL databases are non-relational and do not adhere to a fixed schema.\n",
    "They use a variety of data models, such as key-value, document, columnar, or graph-based, to store data.\n",
    "NoSQL databases provide flexible schemas, allowing for dynamic and evolving data structures.\n",
    "They offer high scalability and performance, making them suitable for handling large amounts of unstructured data.\n",
    "Examples of NoSQL databases include MongoDB, Cassandra, and Redis.\n"
   ]
  },
  {
   "cell_type": "markdown",
   "id": "8d6c7356",
   "metadata": {},
   "source": [
    "# Question 2"
   ]
  },
  {
   "cell_type": "markdown",
   "id": "7e983c3c",
   "metadata": {},
   "source": [
    "DDL stands for Data Definition Language. It is a subset of SQL (Structured Query Language) used to define and manage the structure of a database. DDL statements are used to create, modify, and delete database objects such as tables, indexes, views, and constraints.\n",
    "\n",
    "CREATE: The CREATE statement is used to create new database objects such as tables, indexes, views, or stored procedures.\n",
    "\n",
    "DROP: The DROP statement is used to delete existing database objects. It permanently removes the object from the database.\n",
    "\n",
    "ALTER: The ALTER statement is used to modify the structure of an existing database object. It can be used to add, modify, or delete columns in a table, rename objects, change data types, or add constraints.\n",
    "\n",
    "TRUNCATE: The TRUNCATE statement is used to delete all data from a table while keeping the table structure intact. It is faster than the DELETE statement because it does not generate individual delete operations for each row."
   ]
  },
  {
   "cell_type": "markdown",
   "id": "9c87337e",
   "metadata": {},
   "source": [
    "# Question 3"
   ]
  },
  {
   "cell_type": "markdown",
   "id": "98ca512d",
   "metadata": {},
   "source": [
    "\n",
    "DML stands for Data Manipulation Language. It is a subset of SQL (Structured Query Language) used to manipulate and interact with the data within a database. These operations are crucial for maintaining the integrity and accuracy of the data within the database and for supporting various data processing and management tasks.\n",
    "\n",
    "INSERT: The INSERT statement is used to add new records into a table. It allows you to specify the values for each column or select values from another table. The basic syntax is: INSERT INTO table_name (column1, column2, ...) VALUES (value1, value2, ...).\n",
    "\n",
    "UPDATE: The UPDATE statement is used to modify existing records in a table. It allows you to update specific columns with new values based on specified conditions. The basic syntax is: UPDATE table_name SET column1 = value1, column2 = value2 WHERE condition.\n",
    "\n",
    "DELETE: The DELETE statement is used to remove records from a table. It allows you to delete specific rows based on specified conditions. The basic syntax is: DELETE FROM table_name WHERE condition."
   ]
  },
  {
   "cell_type": "markdown",
   "id": "9be0ec6c",
   "metadata": {},
   "source": [
    "# Question 4"
   ]
  },
  {
   "cell_type": "markdown",
   "id": "86951917",
   "metadata": {},
   "source": [
    "DQL stands for Data Query Language. It is a subset of SQL (Structured Query Language) used to retrieve data from a database. DQL is focused on querying and retrieving information rather than modifying or manipulating the data.\n",
    "\n",
    "The SELECT statement is used to retrieve data from one or more tables in a database. It allows you to specify which columns you want to retrieve, apply filters or conditions to limit the result set, perform calculations or aggregations on the data, and sort the results in a desired order.\n",
    "\n",
    "EXample:\n",
    "    SELECT column1, column2, ...\n",
    "    FROM table_name WHERE condition"
   ]
  },
  {
   "cell_type": "markdown",
   "id": "354fe94f",
   "metadata": {},
   "source": [
    "# Question 5"
   ]
  },
  {
   "cell_type": "markdown",
   "id": "e5c7cbd8",
   "metadata": {},
   "source": [
    "Primary Key (PK): In a relational database, a primary key is a unique identifier for a specific record in a table. It ensures the uniqueness and integrity of data within the table. A primary key constraint enforces the rule that no two records can have the same primary key value. Typically, a primary key is chosen from one or more columns that uniquely identify each record. It facilitates data retrieval, data integrity, and the establishment of relationships between tables.\n",
    "\n",
    "Foreign Key (FK): A foreign key is a field or a combination of fields in a table that refers to the primary key of another table. It establishes a relationship between two tables, known as a parent-child relationship. The foreign key ensures referential integrity by enforcing that the values in the foreign key column(s) of the child table must match the values in the primary key column(s) of the parent table. It allows for data consistency and enables the creation of relationships and joins between tables, enabling the representation of complex data relationships in a database."
   ]
  },
  {
   "cell_type": "markdown",
   "id": "a29d4119",
   "metadata": {},
   "source": [
    "# Question 6"
   ]
  },
  {
   "cell_type": "code",
   "execution_count": 4,
   "id": "18aa00e1",
   "metadata": {},
   "outputs": [
    {
     "name": "stdout",
     "output_type": "stream",
     "text": [
      "Data is a table having two columns: \n",
      "Data in Database:\n",
      "(1, 'Krishna')\n",
      "(2, 'Urvil')\n",
      "(2, 'Urvil')\n"
     ]
    }
   ],
   "source": [
    "import  mysql.connector \n",
    "mydb = mysql.connector.connect(\n",
    "    host=\"localhost\",\n",
    "    user=\"root\", \n",
    "    password=\"UrvilP\",\n",
    "    database=\"for_python\"\n",
    "    )\n",
    "\n",
    "cur = mydb.cursor()\n",
    "query = \"select * from demo2;\"\n",
    "cur.execute(query)\n",
    "rows = cur.fetchall()\n",
    "print('Data is a table having two columns: ')\n",
    "print('Data in Database:')\n",
    "for row in rows:\n",
    "    print(row)"
   ]
  },
  {
   "cell_type": "markdown",
   "id": "cf0162e5",
   "metadata": {},
   "source": [
    "# Question 7"
   ]
  },
  {
   "cell_type": "markdown",
   "id": "8e8046aa",
   "metadata": {},
   "source": [
    "The order of execution of SQL clauses in an SQL query is as follows:\n",
    "\n",
    "1. FROM: The FROM clause specifies the table or tables from which the data is being retrieved.\n",
    "\n",
    "\n",
    "2. WHERE: The WHERE clause filters the rows based on specified conditions. It restricts the result set to include only the rows that satisfy the given conditions.\n",
    "\n",
    "\n",
    "3. GROUP BY: The GROUP BY clause is used to group the rows based on one or more columns. It is often used in conjunction with aggregate functions like SUM, COUNT, AVG, etc.\n",
    "\n",
    "\n",
    "4. HAVING: The HAVING clause filters the groups created by the GROUP BY clause based on specified conditions. It restricts the result set to include only the groups that satisfy the given conditions.\n",
    "\n",
    "\n",
    "5. SELECT: The SELECT clause determines the columns or expressions to retrieve from the table. It specifies the desired output columns.\n",
    "\n",
    "\n",
    "6. DISTINCT: The DISTINCT keyword is used to eliminate duplicate rows from the result set.\n",
    "\n",
    "\n",
    "7. ORDER BY: The ORDER BY clause sorts the result set based on specified columns or expressions. It arranges the rows in ascending or descending order."
   ]
  },
  {
   "cell_type": "code",
   "execution_count": null,
   "id": "4d849683",
   "metadata": {},
   "outputs": [],
   "source": []
  }
 ],
 "metadata": {
  "kernelspec": {
   "display_name": "Python 3 (ipykernel)",
   "language": "python",
   "name": "python3"
  },
  "language_info": {
   "codemirror_mode": {
    "name": "ipython",
    "version": 3
   },
   "file_extension": ".py",
   "mimetype": "text/x-python",
   "name": "python",
   "nbconvert_exporter": "python",
   "pygments_lexer": "ipython3",
   "version": "3.11.1"
  }
 },
 "nbformat": 4,
 "nbformat_minor": 5
}

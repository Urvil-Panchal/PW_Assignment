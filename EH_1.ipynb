{
 "cells": [
  {
   "cell_type": "markdown",
   "id": "5529f3c1",
   "metadata": {},
   "source": [
    "# Question 1"
   ]
  },
  {
   "cell_type": "markdown",
   "id": "29c35cd7",
   "metadata": {},
   "source": [
    "In Python \"Exceptional Handling\" refers to the process of managing and responding to exceptions, which are runtime errors or exceptional events that occur during the execution of a program.\n",
    "\n",
    "Syntax error is a different kind of error that occurs when the Python interpreter encounters invalid or incorrect syntax in your code. Syntax errors indicate mistakes like missing colons, parentheses, or incorrect indentation."
   ]
  },
  {
   "cell_type": "raw",
   "id": "921307d1",
   "metadata": {},
   "source": [
    "Exception:\n",
    "    Occur during program execution.\n",
    "    Runtime error.\n",
    "    Occur due to exceptional conditions or events.\n",
    "    Can be caught and managed using try-except blocks.\n",
    "    Examples: ValueError, ZeroDivisionError, FileNotFoundError\n",
    "    \n",
    "Syntax Error:\n",
    "    Detected during parsing stage before execution.\n",
    "    Compilation error.\n",
    "    Arise from invalid or incorrect syntax in the code.\n",
    "    Must be fixed before the program can be executed.\n",
    "    Missing colons, parentheses, incorrect indentation."
   ]
  },
  {
   "cell_type": "markdown",
   "id": "23f00c26",
   "metadata": {},
   "source": [
    "# Question 2"
   ]
  },
  {
   "cell_type": "raw",
   "id": "2fde6797",
   "metadata": {},
   "source": [
    "When an exception is not handled in a Python program, it leads to the termination of the program and an error message is displayed.\n",
    "\n",
    "Exception handaling in avoiding the abnormal termination of execution of program."
   ]
  },
  {
   "cell_type": "code",
   "execution_count": 5,
   "id": "a485fdb1",
   "metadata": {},
   "outputs": [
    {
     "name": "stdout",
     "output_type": "stream",
     "text": [
      "5\n",
      "2.0\n",
      "0\n"
     ]
    },
    {
     "ename": "ZeroDivisionError",
     "evalue": "division by zero",
     "output_type": "error",
     "traceback": [
      "\u001b[1;31m---------------------------------------------------------------------------\u001b[0m",
      "\u001b[1;31mZeroDivisionError\u001b[0m                         Traceback (most recent call last)",
      "Cell \u001b[1;32mIn[5], line 8\u001b[0m\n\u001b[0;32m      5\u001b[0m     \u001b[38;5;28mprint\u001b[39m(b\u001b[38;5;241m/\u001b[39ma)\n\u001b[0;32m      7\u001b[0m fun()\n\u001b[1;32m----> 8\u001b[0m \u001b[43mfun\u001b[49m\u001b[43m(\u001b[49m\u001b[43m)\u001b[49m\n",
      "Cell \u001b[1;32mIn[5], line 5\u001b[0m, in \u001b[0;36mfun\u001b[1;34m()\u001b[0m\n\u001b[0;32m      3\u001b[0m a \u001b[38;5;241m=\u001b[39m \u001b[38;5;28mint\u001b[39m(\u001b[38;5;28minput\u001b[39m())\n\u001b[0;32m      4\u001b[0m b \u001b[38;5;241m=\u001b[39m \u001b[38;5;241m10\u001b[39m\n\u001b[1;32m----> 5\u001b[0m \u001b[38;5;28mprint\u001b[39m(\u001b[43mb\u001b[49m\u001b[38;5;241;43m/\u001b[39;49m\u001b[43ma\u001b[49m)\n",
      "\u001b[1;31mZeroDivisionError\u001b[0m: division by zero"
     ]
    }
   ],
   "source": [
    "#Example\n",
    "def fun():\n",
    "    a = int(input())\n",
    "    b = 10\n",
    "    print(b/a)\n",
    "    \n",
    "fun()\n",
    "fun()"
   ]
  },
  {
   "cell_type": "markdown",
   "id": "07ec88c6",
   "metadata": {},
   "source": [
    "# Question 3"
   ]
  },
  {
   "cell_type": "markdown",
   "id": "af6a865f",
   "metadata": {},
   "source": [
    "In python the suspicious code is written in 'try' block. If any exception occurs in try block it will be catched using 'except' block."
   ]
  },
  {
   "cell_type": "code",
   "execution_count": 9,
   "id": "00347514",
   "metadata": {},
   "outputs": [
    {
     "name": "stdout",
     "output_type": "stream",
     "text": [
      "Enter a number: 5\n",
      "Enter another number: 0\n",
      "Error: Division by zero is not allowed.\n",
      "Enter a number: 6\n",
      "Enter another number: j\n",
      "Invalid input. Please enter a valid integer.\n"
     ]
    }
   ],
   "source": [
    "def demo():\n",
    "    try:\n",
    "        num1 = int(input(\"Enter a number: \"))\n",
    "        num2 = int(input(\"Enter another number: \"))\n",
    "        result = num1 / num2\n",
    "        print(\"The result is:\", result)\n",
    "    except ValueError:\n",
    "        print(\"Invalid input. Please enter a valid integer.\")\n",
    "    except ZeroDivisionError:\n",
    "        print(\"Error: Division by zero is not allowed.\")\n",
    "        \n",
    "demo()\n",
    "demo()"
   ]
  },
  {
   "cell_type": "markdown",
   "id": "d7950f78",
   "metadata": {},
   "source": [
    "# Question 4"
   ]
  },
  {
   "cell_type": "code",
   "execution_count": 18,
   "id": "91d47f1b",
   "metadata": {},
   "outputs": [
    {
     "name": "stdout",
     "output_type": "stream",
     "text": [
      "Enter number:5\n",
      "2.0\n",
      "No exception occured.\n",
      "Enter number:0\n",
      "Can't Divided by Zero\n"
     ]
    }
   ],
   "source": [
    "# a\n",
    "'''\n",
    "try-else:\n",
    "if try block will executed normally then, else block will be executed.\n",
    "'''\n",
    "\n",
    "def demo():\n",
    "    a = int(input(\"Enter number:\"))\n",
    "    try:\n",
    "        print(10/a)\n",
    "    except ZeroDivisionError:\n",
    "        print(\"Can't Divided by Zero\")\n",
    "    else:\n",
    "        print('No exception occured.')\n",
    "        \n",
    "demo()\n",
    "demo()"
   ]
  },
  {
   "cell_type": "markdown",
   "id": "04364a29",
   "metadata": {},
   "source": [
    "# Question 5"
   ]
  },
  {
   "cell_type": "markdown",
   "id": "af196b68",
   "metadata": {},
   "source": [
    "Custom exceptions in Python are exceptions defined by the programmer to represent specific error conditions that are not covered by built-in exceptions. \n",
    "\n",
    "We need custom exceptions in Python to:\n",
    "    Provide more descriptive error messages.\n",
    "    Enhance code readability and maintainability.\n",
    "    Enable targeted exception handling."
   ]
  },
  {
   "cell_type": "code",
   "execution_count": 20,
   "id": "a7753586",
   "metadata": {},
   "outputs": [
    {
     "name": "stdout",
     "output_type": "stream",
     "text": [
      "Error: Invalid data. Cannot process empty input.\n"
     ]
    }
   ],
   "source": [
    "class CustomException(Exception):\n",
    "    pass\n",
    "\n",
    "def process_data(data):\n",
    "    if not data:\n",
    "        raise CustomException(\"Invalid data. Cannot process empty input.\")\n",
    "\n",
    "try:\n",
    "    data = []\n",
    "    process_data(data)\n",
    "except CustomException as e:\n",
    "    print(\"Error:\", str(e))"
   ]
  },
  {
   "cell_type": "markdown",
   "id": "4233ce0c",
   "metadata": {},
   "source": [
    "# Question 6"
   ]
  },
  {
   "cell_type": "code",
   "execution_count": 22,
   "id": "a41a76a3",
   "metadata": {},
   "outputs": [
    {
     "name": "stdout",
     "output_type": "stream",
     "text": [
      "1 2 4 "
     ]
    },
    {
     "ename": "CustomException",
     "evalue": "Only interger and float values are allowed..!",
     "output_type": "error",
     "traceback": [
      "\u001b[1;31m---------------------------------------------------------------------------\u001b[0m",
      "\u001b[1;31mCustomException\u001b[0m                           Traceback (most recent call last)",
      "Cell \u001b[1;32mIn[22], line 11\u001b[0m\n\u001b[0;32m      8\u001b[0m         \u001b[38;5;28;01melse\u001b[39;00m:\n\u001b[0;32m      9\u001b[0m             \u001b[38;5;28mprint\u001b[39m(i, end\u001b[38;5;241m=\u001b[39m\u001b[38;5;124m'\u001b[39m\u001b[38;5;124m \u001b[39m\u001b[38;5;124m'\u001b[39m)\n\u001b[1;32m---> 11\u001b[0m \u001b[43mshowNumbers\u001b[49m\u001b[43m(\u001b[49m\u001b[43m[\u001b[49m\u001b[38;5;241;43m1\u001b[39;49m\u001b[43m,\u001b[49m\u001b[38;5;241;43m2\u001b[39;49m\u001b[43m,\u001b[49m\u001b[38;5;241;43m4\u001b[39;49m\u001b[43m,\u001b[49m\u001b[38;5;124;43m'\u001b[39;49m\u001b[38;5;124;43mName\u001b[39;49m\u001b[38;5;124;43m'\u001b[39;49m\u001b[43m]\u001b[49m\u001b[43m)\u001b[49m\n\u001b[0;32m     12\u001b[0m showNumbers([\u001b[38;5;241m1\u001b[39m,\u001b[38;5;241m2\u001b[39m,\u001b[38;5;241m3.4\u001b[39m,\u001b[38;5;241m5.6\u001b[39m,\u001b[38;5;241m7\u001b[39m,\u001b[38;5;241m8\u001b[39m,\u001b[38;5;241m9\u001b[39m,\u001b[38;5;241m1.0\u001b[39m])\n",
      "Cell \u001b[1;32mIn[22], line 7\u001b[0m, in \u001b[0;36mshowNumbers\u001b[1;34m(details)\u001b[0m\n\u001b[0;32m      5\u001b[0m \u001b[38;5;28;01mfor\u001b[39;00m i \u001b[38;5;129;01min\u001b[39;00m details:\n\u001b[0;32m      6\u001b[0m     \u001b[38;5;28;01mif\u001b[39;00m \u001b[38;5;28mtype\u001b[39m(i) \u001b[38;5;241m!=\u001b[39m \u001b[38;5;28mint\u001b[39m:\n\u001b[1;32m----> 7\u001b[0m         \u001b[38;5;28;01mraise\u001b[39;00m CustomException(\u001b[38;5;124m\"\u001b[39m\u001b[38;5;124mOnly interger and float values are allowed..!\u001b[39m\u001b[38;5;124m\"\u001b[39m)\n\u001b[0;32m      8\u001b[0m     \u001b[38;5;28;01melse\u001b[39;00m:\n\u001b[0;32m      9\u001b[0m         \u001b[38;5;28mprint\u001b[39m(i, end\u001b[38;5;241m=\u001b[39m\u001b[38;5;124m'\u001b[39m\u001b[38;5;124m \u001b[39m\u001b[38;5;124m'\u001b[39m)\n",
      "\u001b[1;31mCustomException\u001b[0m: Only interger and float values are allowed..!"
     ]
    }
   ],
   "source": [
    "class CustomException(Exception):\n",
    "    pass\n",
    "\n",
    "def showNumbers(details):\n",
    "    for i in details:\n",
    "        if type(i) != int:\n",
    "            raise CustomException(\"Only interger and float values are allowed..!\")\n",
    "        else:\n",
    "            print(i, end=' ')\n",
    "    \n",
    "showNumbers([1,2,4,'Name'])\n",
    "showNumbers([1,2,3.4,5.6,7,8,9,1.0])"
   ]
  },
  {
   "cell_type": "code",
   "execution_count": null,
   "id": "716ea0eb",
   "metadata": {},
   "outputs": [],
   "source": []
  }
 ],
 "metadata": {
  "kernelspec": {
   "display_name": "Python 3 (ipykernel)",
   "language": "python",
   "name": "python3"
  },
  "language_info": {
   "codemirror_mode": {
    "name": "ipython",
    "version": 3
   },
   "file_extension": ".py",
   "mimetype": "text/x-python",
   "name": "python",
   "nbconvert_exporter": "python",
   "pygments_lexer": "ipython3",
   "version": "3.11.1"
  }
 },
 "nbformat": 4,
 "nbformat_minor": 5
}

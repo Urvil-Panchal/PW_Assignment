{
 "cells": [
  {
   "cell_type": "markdown",
   "id": "f8f15ff9",
   "metadata": {},
   "source": [
    "# Question 1"
   ]
  },
  {
   "cell_type": "code",
   "execution_count": 1,
   "id": "1c931466",
   "metadata": {},
   "outputs": [],
   "source": [
    "class Vehicle:\n",
    "    def __init__(self,name_of_vehicle, max_speed, average_of_vehicle):\n",
    "        self.name_of_vehicle = name_of_vehicle\n",
    "        self.max_speed = max_speed\n",
    "        self.average_of_vehicle = average_of_vehicle\n",
    "\n",
    "v1 = Vehicle(\"Baleno\" , 240 , 30)"
   ]
  },
  {
   "cell_type": "markdown",
   "id": "15cb164b",
   "metadata": {},
   "source": [
    "# Question 2"
   ]
  },
  {
   "cell_type": "code",
   "execution_count": 2,
   "id": "bd616e9c",
   "metadata": {},
   "outputs": [],
   "source": [
    "class Car(Vehicle):\n",
    "    def seating_capacity(self,capacity):\n",
    "        self.capacity = capacity\n",
    "        return self.name_of_vehicle,self.capacity"
   ]
  },
  {
   "cell_type": "code",
   "execution_count": 3,
   "id": "99c1fa66",
   "metadata": {},
   "outputs": [
    {
     "name": "stdout",
     "output_type": "stream",
     "text": [
      "Name of car is Baleno and seating capacity is 5\n"
     ]
    }
   ],
   "source": [
    "c1 = Car(\"Baleno\" , 240 , 30)\n",
    "name,cap = c1.seating_capacity(5)\n",
    "print(f\"Name of car is {name} and seating capacity is {cap}\")"
   ]
  },
  {
   "cell_type": "markdown",
   "id": "ce6fcae5",
   "metadata": {},
   "source": [
    "# Question 3"
   ]
  },
  {
   "cell_type": "markdown",
   "id": "b425f4aa",
   "metadata": {},
   "source": [
    "Multiple inheritance is a feature of OOPs in which a class can inherit\n",
    "features from one or more parent classes.\n",
    "\n",
    "For example there are three classes, father,mother and son.\n",
    "Son class can inherit both the father and mother class.\n",
    "So, father and mother class are 'Parent Class' for son class.\n",
    "While son class is 'Child Class' for both father and mother class.\n",
    "\n",
    "Child class can use the properties and methods of parent class while vice versa is not possible.\n",
    "Also father and mother class can't access eachother's methods and properties."
   ]
  },
  {
   "cell_type": "code",
   "execution_count": 4,
   "id": "444ec27b",
   "metadata": {},
   "outputs": [
    {
     "name": "stdout",
     "output_type": "stream",
     "text": [
      "Father's money is 500000\n",
      "Mother's money is 1000000\n"
     ]
    }
   ],
   "source": [
    "# Example\n",
    "class Father():\n",
    "    father_money = 500000\n",
    "    def Get_Father_Money(self):\n",
    "        return self.father_money\n",
    "    \n",
    "class Mother():\n",
    "    mother_money = 1000000\n",
    "    def Get_Mother_Money(self):\n",
    "        return self.mother_money\n",
    "    \n",
    "class Son(Father , Mother):\n",
    "    pass\n",
    "\n",
    "\n",
    "S = Son()\n",
    "print(\"Father's money is\", S.Get_Father_Money())\n",
    "print(\"Mother's money is\", S.Get_Mother_Money())"
   ]
  },
  {
   "cell_type": "markdown",
   "id": "f58aa41d",
   "metadata": {},
   "source": [
    "# Question 4"
   ]
  },
  {
   "cell_type": "raw",
   "id": "0483cedc",
   "metadata": {},
   "source": [
    "Getter and Setter:\n",
    "\n",
    "Getter: These are the methods used in OOPs which helps to access the private attributes from a class.\n",
    "Setter: These are the methods used in OOPs which helps to set the values to attribute of class."
   ]
  },
  {
   "cell_type": "code",
   "execution_count": 5,
   "id": "9e2fc4a9",
   "metadata": {},
   "outputs": [
    {
     "name": "stdout",
     "output_type": "stream",
     "text": [
      "Name of Person is: Urvil\n",
      "Age of Person is: 20\n",
      "Age of Person is: 21\n"
     ]
    }
   ],
   "source": [
    "# Example\n",
    "\n",
    "class Person:\n",
    "    \n",
    "    def __init__(self,name,age):\n",
    "        self.name = name\n",
    "        self.age = age\n",
    "        \n",
    "    def getName(self):\n",
    "        return self.name\n",
    "    def getAge(self):\n",
    "        return self.age\n",
    "    \n",
    "    def setName(self, inputName):\n",
    "        self.name = inputName\n",
    "    def setAge(self,inputAge):\n",
    "        self.age = inputAge\n",
    "\n",
    "P = Person(\"Urvil\" , 20)\n",
    "print(\"Name of Person is:\",P.getName())\n",
    "print(\"Age of Person is:\",P.getAge())\n",
    "\n",
    "P.setAge(21)\n",
    "\n",
    "print(\"Age of Person is:\",P.getAge())"
   ]
  },
  {
   "cell_type": "markdown",
   "id": "12129cf1",
   "metadata": {},
   "source": [
    "# Question 5"
   ]
  },
  {
   "cell_type": "raw",
   "id": "b0fd2290",
   "metadata": {},
   "source": [
    "Method Overriding in OOPs is a language feature that allows a subclass or child class to provide a specific implementation of method that is already provided by one of its super class or parent class."
   ]
  },
  {
   "cell_type": "code",
   "execution_count": 6,
   "id": "11325b1d",
   "metadata": {},
   "outputs": [
    {
     "name": "stdout",
     "output_type": "stream",
     "text": [
      "Inside Parent\n",
      "Inside Child\n"
     ]
    }
   ],
   "source": [
    "class Parent:\n",
    "    def __init__(self):\n",
    "        self.value = \"Inside Parent\"\n",
    "    \n",
    "    def Show(self):\n",
    "        print(self.value)\n",
    "        \n",
    "class Child(Parent):\n",
    "    def __init__(self):\n",
    "        self.value = \"Inside Child\"\n",
    "    \n",
    "    def Show(self):   # This is method overriding. We are again defining the same method which is\n",
    "        print(self.value)# Present in Parent class.\n",
    "        \n",
    "P = Parent()\n",
    "C = Child()\n",
    "\n",
    "P.Show()\n",
    "C.Show()"
   ]
  },
  {
   "cell_type": "code",
   "execution_count": null,
   "id": "8cc7a876",
   "metadata": {},
   "outputs": [],
   "source": []
  }
 ],
 "metadata": {
  "kernelspec": {
   "display_name": "Python 3 (ipykernel)",
   "language": "python",
   "name": "python3"
  },
  "language_info": {
   "codemirror_mode": {
    "name": "ipython",
    "version": 3
   },
   "file_extension": ".py",
   "mimetype": "text/x-python",
   "name": "python",
   "nbconvert_exporter": "python",
   "pygments_lexer": "ipython3",
   "version": "3.11.1"
  }
 },
 "nbformat": 4,
 "nbformat_minor": 5
}
